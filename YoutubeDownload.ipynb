{
  "nbformat": 4,
  "nbformat_minor": 0,
  "metadata": {
    "colab": {
      "provenance": [],
      "authorship_tag": "ABX9TyN6CAFVxUs2MWhmlSZXnCQk",
      "include_colab_link": true
    },
    "kernelspec": {
      "name": "python3",
      "display_name": "Python 3"
    },
    "language_info": {
      "name": "python"
    }
  },
  "cells": [
    {
      "cell_type": "markdown",
      "metadata": {
        "id": "view-in-github",
        "colab_type": "text"
      },
      "source": [
        "<a href=\"https://colab.research.google.com/github/onepiece-nika/onepiece-nika/blob/main/YoutubeDownload.ipynb\" target=\"_parent\"><img src=\"https://colab.research.google.com/assets/colab-badge.svg\" alt=\"Open In Colab\"/></a>"
      ]
    },
    {
      "cell_type": "code",
      "source": [
        "from yt_dlp import YoutubeDL                     # Generado por agusV - N1K4\n",
        "\n",
        "# Reemplaza esta URL con la del video que quieres descargar\n",
        "url = \"www.youtube.com/watch?v=d6eEG7C81Lc&ab_channel=Endeejayy\" # usar comillas recordar que es un str\n",
        "\n",
        "# Opciones de descarga\n",
        "options = {\n",
        "    'format': 'bv*[height<=720]+ba/b[height<=720]',  # mejor video + mejor audio hasta 720p\n",
        "    'outtmpl': 'video.mp4',                         # nombre del archivo de salida\n",
        "    'merge_output_format': 'mp4',                   # asegura que el archivo final sea mp4\n",
        "}\n",
        "\n",
        "# Descargar el video\n",
        "with YoutubeDL(options) as ydl:\n",
        "    ydl.download([url])\n"
      ],
      "metadata": {
        "colab": {
          "base_uri": "https://localhost:8080/"
        },
        "id": "2Zkv92R9_Lpi",
        "outputId": "dbc25d8f-caf1-4225-abdd-d69c545ada12"
      },
      "execution_count": 28,
      "outputs": [
        {
          "output_type": "stream",
          "name": "stdout",
          "text": [
            "[generic] Extracting URL: www.youtube.com/watch?v=d6eEG7C81Lc&ab_channel=Endeejayy\n"
          ]
        },
        {
          "output_type": "stream",
          "name": "stderr",
          "text": [
            "WARNING: [generic] The url doesn't specify the protocol, trying with http\n"
          ]
        },
        {
          "output_type": "stream",
          "name": "stdout",
          "text": [
            "[youtube] Extracting URL: http://www.youtube.com/watch?v=d6eEG7C81Lc&ab_channel=Endeejayy\n",
            "[youtube] d6eEG7C81Lc: Downloading webpage\n",
            "[youtube] d6eEG7C81Lc: Downloading tv client config\n",
            "[youtube] d6eEG7C81Lc: Downloading player fc2a56a5-main\n",
            "[youtube] d6eEG7C81Lc: Downloading tv player API JSON\n",
            "[youtube] d6eEG7C81Lc: Downloading ios player API JSON\n",
            "[youtube] d6eEG7C81Lc: Downloading m3u8 information\n",
            "[info] d6eEG7C81Lc: Downloading 1 format(s): 398+251\n",
            "[download] Destination: video.f398.mp4\n",
            "[download] 100% of   10.40MiB in 00:00:00 at 19.01MiB/s  \n",
            "[download] Destination: video.f251.webm\n",
            "[download] 100% of    2.01MiB in 00:00:00 at 24.09MiB/s  \n",
            "[Merger] Merging formats into \"video.mp4\"\n",
            "Deleting original file video.f251.webm (pass -k to keep)\n",
            "Deleting original file video.f398.mp4 (pass -k to keep)\n"
          ]
        }
      ]
    },
    {
      "cell_type": "code",
      "source": [],
      "metadata": {
        "id": "aTNmD8Kk_L01"
      },
      "execution_count": null,
      "outputs": []
    },
    {
      "cell_type": "code",
      "source": [],
      "metadata": {
        "id": "2KselBb-_MFz"
      },
      "execution_count": null,
      "outputs": []
    },
    {
      "cell_type": "code",
      "source": [],
      "metadata": {
        "id": "1mzaqQas_MlP"
      },
      "execution_count": null,
      "outputs": []
    },
    {
      "cell_type": "code",
      "source": [],
      "metadata": {
        "id": "uzJCIaNi_Msl"
      },
      "execution_count": null,
      "outputs": []
    }
  ]
}