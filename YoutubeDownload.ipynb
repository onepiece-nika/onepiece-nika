{
  "nbformat": 4,
  "nbformat_minor": 0,
  "metadata": {
    "colab": {
      "provenance": [],
      "authorship_tag": "ABX9TyM/jNERf5ykHczuc4Lu+uze",
      "include_colab_link": true
    },
    "kernelspec": {
      "name": "python3",
      "display_name": "Python 3"
    },
    "language_info": {
      "name": "python"
    }
  },
  "cells": [
    {
      "cell_type": "markdown",
      "metadata": {
        "id": "view-in-github",
        "colab_type": "text"
      },
      "source": [
        "<a href=\"https://colab.research.google.com/github/onepiece-nika/onepiece-nika/blob/main/YoutubeDownload.ipynb\" target=\"_parent\"><img src=\"https://colab.research.google.com/assets/colab-badge.svg\" alt=\"Open In Colab\"/></a>"
      ]
    },
    {
      "cell_type": "code",
      "source": [
        "!pip install yt_dlp"
      ],
      "metadata": {
        "id": "VWwqxqfG-dgE",
        "outputId": "d1915982-1b9b-4602-80b0-2fcf23362c6d",
        "colab": {
          "base_uri": "https://localhost:8080/"
        }
      },
      "execution_count": 1,
      "outputs": [
        {
          "output_type": "stream",
          "name": "stdout",
          "text": [
            "Collecting yt_dlp\n",
            "  Downloading yt_dlp-2025.7.21-py3-none-any.whl.metadata (175 kB)\n",
            "\u001b[2K     \u001b[90m━━━━━━━━━━━━━━━━━━━━━━━━━━━━━━━━━━━━━━━\u001b[0m \u001b[32m175.4/175.4 kB\u001b[0m \u001b[31m3.8 MB/s\u001b[0m eta \u001b[36m0:00:00\u001b[0m\n",
            "\u001b[?25hDownloading yt_dlp-2025.7.21-py3-none-any.whl (3.3 MB)\n",
            "\u001b[2K   \u001b[90m━━━━━━━━━━━━━━━━━━━━━━━━━━━━━━━━━━━━━━━━\u001b[0m \u001b[32m3.3/3.3 MB\u001b[0m \u001b[31m38.1 MB/s\u001b[0m eta \u001b[36m0:00:00\u001b[0m\n",
            "\u001b[?25hInstalling collected packages: yt_dlp\n",
            "Successfully installed yt_dlp-2025.7.21\n"
          ]
        }
      ]
    },
    {
      "cell_type": "code",
      "source": [
        "from yt_dlp import YoutubeDL                     # Generado por agusV - N1K4\n",
        "\n",
        "# Reemplaza esta URL con la del video que quieres descargar\n",
        "url = \"https://www.youtube.com/watch?v=H5vvwzEKe1k\" # usar comillas recordar que es un str\n",
        "\n",
        "# Opciones de descarga\n",
        "options = {\n",
        "    'format': 'bv*[height<=720]+ba/b[height<=720]',  # mejor video + mejor audio hasta 720p\n",
        "    'outtmpl': 'video.mp4',                         # nombre del archivo de salida\n",
        "    'merge_output_format': 'mp4',                   # asegura que el archivo final sea mp4\n",
        "}\n",
        "\n",
        "# Descargar el video\n",
        "with YoutubeDL(options) as ydl:\n",
        "    ydl.download([url])\n"
      ],
      "metadata": {
        "colab": {
          "base_uri": "https://localhost:8080/"
        },
        "id": "2Zkv92R9_Lpi",
        "outputId": "3d1b9979-d3f8-47b5-d203-3bcc121812f2"
      },
      "execution_count": 3,
      "outputs": [
        {
          "output_type": "stream",
          "name": "stdout",
          "text": [
            "[youtube] Extracting URL: https://www.youtube.com/watch?v=H5vvwzEKe1k\n",
            "[youtube] H5vvwzEKe1k: Downloading webpage\n",
            "[youtube] H5vvwzEKe1k: Downloading tv client config\n",
            "[youtube] H5vvwzEKe1k: Downloading player 461f4c95-main\n",
            "[youtube] H5vvwzEKe1k: Downloading tv player API JSON\n",
            "[youtube] H5vvwzEKe1k: Downloading ios player API JSON\n",
            "[youtube] H5vvwzEKe1k: Downloading m3u8 information\n",
            "[info] H5vvwzEKe1k: Downloading 1 format(s): 243+251\n",
            "[download] Destination: video.f243.webm\n",
            "[download] 100% of    1.79MiB in 00:00:00 at 9.21MiB/s   \n",
            "[download] Destination: video.f251.webm\n",
            "[download] 100% of  738.70KiB in 00:00:00 at 6.24MiB/s   \n",
            "[Merger] Merging formats into \"video.mp4\"\n",
            "Deleting original file video.f251.webm (pass -k to keep)\n",
            "Deleting original file video.f243.webm (pass -k to keep)\n"
          ]
        }
      ]
    },
    {
      "cell_type": "code",
      "source": [],
      "metadata": {
        "id": "aTNmD8Kk_L01"
      },
      "execution_count": null,
      "outputs": []
    },
    {
      "cell_type": "code",
      "source": [],
      "metadata": {
        "id": "2KselBb-_MFz"
      },
      "execution_count": null,
      "outputs": []
    },
    {
      "cell_type": "code",
      "source": [],
      "metadata": {
        "id": "1mzaqQas_MlP"
      },
      "execution_count": null,
      "outputs": []
    },
    {
      "cell_type": "code",
      "source": [],
      "metadata": {
        "id": "uzJCIaNi_Msl"
      },
      "execution_count": null,
      "outputs": []
    }
  ]
}